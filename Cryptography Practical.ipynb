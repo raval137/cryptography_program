{
 "cells": [
  {
   "cell_type": "markdown",
   "metadata": {},
   "source": [
    "Caesar Cipher"
   ]
  },
  {
   "cell_type": "code",
   "execution_count": 1,
   "metadata": {},
   "outputs": [
    {
     "name": "stdout",
     "output_type": "stream",
     "text": [
      "Enter any word \n",
      "HELLO\n",
      "\n",
      "Cipher Text\n",
      "KHOOR\n"
     ]
    }
   ],
   "source": [
    "x = input(\"Enter any word \\n\")\n",
    "odd = [90,89,88,122,121,120]\n",
    "list2 = [ord(c) for c in x]\n",
    "list3 = []\n",
    "list4 = []\n",
    "for x in list2:\n",
    "    if x in odd: \n",
    "        list3.append(x+3-26)\n",
    "    else:\n",
    "        list3.append(x+3)\n",
    "    \n",
    "for x in list3:\n",
    "    list4.append(chr(x))\n",
    "\n",
    "print(\"\\nCipher Text\")    \n",
    "print(''.join(list4))"
   ]
  },
  {
   "cell_type": "code",
   "execution_count": 2,
   "metadata": {},
   "outputs": [
    {
     "name": "stdout",
     "output_type": "stream",
     "text": [
      "Enter any word: HELLO\n",
      "Enter Key: 5\n",
      "\n",
      "Cipher Text\n",
      "MJQQT\n"
     ]
    }
   ],
   "source": [
    "x = input(\"Enter any word: \")\n",
    "key = int(input(\"Enter Key: \"))\n",
    "odd = [90,89,88,122,121,120]\n",
    "list2 = [ord(c) for c in x]\n",
    "list3 = []\n",
    "list4 = []\n",
    "\n",
    "assert key <26 , \"Invalid key entered\"\n",
    "\n",
    "for x in list2:\n",
    "    if x in odd: \n",
    "        list3.append(x+key-26)\n",
    "    else:\n",
    "        list3.append(x+key)\n",
    "    \n",
    "for x in list3:\n",
    "    list4.append(chr(x))\n",
    "\n",
    "print(\"\\nCipher Text\")    \n",
    "print(''.join(list4))"
   ]
  },
  {
   "cell_type": "markdown",
   "metadata": {},
   "source": [
    "Mono-alphabetic Cipher"
   ]
  },
  {
   "cell_type": "code",
   "execution_count": 4,
   "metadata": {},
   "outputs": [
    {
     "name": "stdout",
     "output_type": "stream",
     "text": [
      "Enter any word: MORNING\n",
      "EJQXBXL\n"
     ]
    }
   ],
   "source": [
    "x = input(\"Enter any word: \")\n",
    "ma = {'a':'K','b':'D','c':'G','d':'F','e':'N','f':'S','g':'L','h':'V','i':'B','j':'W','k':'A','l':'H','m':'E','n':'X','o':'J','p':'M','q':'C','r':'Q','s':'P','t':'Z','u':'R','v':'T','w':'Y','x':'I','y':'U','z':'O'}\n",
    "list1 = [a for a in x.lower()]\n",
    "list2 = []\n",
    "for x in list1:\n",
    "    list2.append(ma[x])\n",
    "print(''.join(list2))"
   ]
  },
  {
   "cell_type": "markdown",
   "metadata": {},
   "source": [
    "WAP to implement poly alphabetic cipher"
   ]
  },
  {
   "cell_type": "code",
   "execution_count": 1,
   "metadata": {},
   "outputs": [
    {
     "name": "stdout",
     "output_type": "stream",
     "text": [
      "[['A' 'B' 'C' 'D' 'E' 'F' 'G' 'H' 'I' 'J' 'K' 'L' 'M' 'N' 'O' 'P' 'Q' 'R'\n",
      "  'S' 'T' 'U' 'V' 'W' 'X' 'Y' 'Z']\n",
      " ['B' 'C' 'D' 'E' 'F' 'G' 'H' 'I' 'J' 'K' 'L' 'M' 'N' 'O' 'P' 'Q' 'R' 'S'\n",
      "  'T' 'U' 'V' 'W' 'X' 'Y' 'Z' 'A']\n",
      " ['C' 'D' 'E' 'F' 'G' 'H' 'I' 'J' 'K' 'L' 'M' 'N' 'O' 'P' 'Q' 'R' 'S' 'T'\n",
      "  'U' 'V' 'W' 'X' 'Y' 'Z' 'A' 'B']\n",
      " ['D' 'E' 'F' 'G' 'H' 'I' 'J' 'K' 'L' 'M' 'N' 'O' 'P' 'Q' 'R' 'S' 'T' 'U'\n",
      "  'V' 'W' 'X' 'Y' 'Z' 'A' 'B' 'C']\n",
      " ['E' 'F' 'G' 'H' 'I' 'J' 'K' 'L' 'M' 'N' 'O' 'P' 'Q' 'R' 'S' 'T' 'U' 'V'\n",
      "  'W' 'X' 'Y' 'Z' 'A' 'B' 'C' 'D']\n",
      " ['F' 'G' 'H' 'I' 'J' 'K' 'L' 'M' 'N' 'O' 'P' 'Q' 'R' 'S' 'T' 'U' 'V' 'W'\n",
      "  'X' 'Y' 'Z' 'A' 'B' 'C' 'D' 'E']\n",
      " ['G' 'H' 'I' 'J' 'K' 'L' 'M' 'N' 'O' 'P' 'Q' 'R' 'S' 'T' 'U' 'V' 'W' 'X'\n",
      "  'Y' 'Z' 'A' 'B' 'C' 'D' 'E' 'F']\n",
      " ['H' 'I' 'J' 'K' 'L' 'M' 'N' 'O' 'P' 'Q' 'R' 'S' 'T' 'U' 'V' 'W' 'X' 'Y'\n",
      "  'Z' 'A' 'B' 'C' 'D' 'E' 'F' 'G']\n",
      " ['I' 'J' 'K' 'L' 'M' 'N' 'O' 'P' 'Q' 'R' 'S' 'T' 'U' 'V' 'W' 'X' 'Y' 'Z'\n",
      "  'A' 'B' 'C' 'D' 'E' 'F' 'G' 'H']\n",
      " ['J' 'K' 'L' 'M' 'N' 'O' 'P' 'Q' 'R' 'S' 'T' 'U' 'V' 'W' 'X' 'Y' 'Z' 'A'\n",
      "  'B' 'C' 'D' 'E' 'F' 'G' 'H' 'I']\n",
      " ['K' 'L' 'M' 'N' 'O' 'P' 'Q' 'R' 'S' 'T' 'U' 'V' 'W' 'X' 'Y' 'Z' 'A' 'B'\n",
      "  'C' 'D' 'E' 'F' 'G' 'H' 'I' 'J']\n",
      " ['L' 'M' 'N' 'O' 'P' 'Q' 'R' 'S' 'T' 'U' 'V' 'W' 'X' 'Y' 'Z' 'A' 'B' 'C'\n",
      "  'D' 'E' 'F' 'G' 'H' 'I' 'J' 'K']\n",
      " ['M' 'N' 'O' 'P' 'Q' 'R' 'S' 'T' 'U' 'V' 'W' 'X' 'Y' 'Z' 'A' 'B' 'C' 'D'\n",
      "  'E' 'F' 'G' 'H' 'I' 'J' 'K' 'L']\n",
      " ['N' 'O' 'P' 'Q' 'R' 'S' 'T' 'U' 'V' 'W' 'X' 'Y' 'Z' 'A' 'B' 'C' 'D' 'E'\n",
      "  'F' 'G' 'H' 'I' 'J' 'K' 'L' 'M']\n",
      " ['O' 'P' 'Q' 'R' 'S' 'T' 'U' 'V' 'W' 'X' 'Y' 'Z' 'A' 'B' 'C' 'D' 'E' 'F'\n",
      "  'G' 'H' 'I' 'J' 'K' 'L' 'M' 'N']\n",
      " ['P' 'Q' 'R' 'S' 'T' 'U' 'V' 'W' 'X' 'Y' 'Z' 'A' 'B' 'C' 'D' 'E' 'F' 'G'\n",
      "  'H' 'I' 'J' 'K' 'L' 'M' 'N' 'O']\n",
      " ['Q' 'R' 'S' 'T' 'U' 'V' 'W' 'X' 'Y' 'Z' 'A' 'B' 'C' 'D' 'E' 'F' 'G' 'H'\n",
      "  'I' 'J' 'K' 'L' 'M' 'N' 'O' 'P']\n",
      " ['R' 'S' 'T' 'U' 'V' 'W' 'X' 'Y' 'Z' 'A' 'B' 'C' 'D' 'E' 'F' 'G' 'H' 'I'\n",
      "  'J' 'K' 'L' 'M' 'N' 'O' 'P' 'Q']\n",
      " ['S' 'T' 'U' 'V' 'W' 'X' 'Y' 'Z' 'A' 'B' 'C' 'D' 'E' 'F' 'G' 'H' 'I' 'J'\n",
      "  'K' 'L' 'M' 'N' 'O' 'P' 'Q' 'R']\n",
      " ['T' 'U' 'V' 'W' 'X' 'Y' 'Z' 'A' 'B' 'C' 'D' 'E' 'F' 'G' 'H' 'I' 'J' 'K'\n",
      "  'L' 'M' 'N' 'O' 'P' 'Q' 'R' 'S']\n",
      " ['U' 'V' 'W' 'X' 'Y' 'Z' 'A' 'B' 'C' 'D' 'E' 'F' 'G' 'H' 'I' 'J' 'K' 'L'\n",
      "  'M' 'N' 'O' 'P' 'Q' 'R' 'S' 'T']\n",
      " ['V' 'W' 'X' 'Y' 'Z' 'A' 'B' 'C' 'D' 'E' 'F' 'G' 'H' 'I' 'J' 'K' 'L' 'M'\n",
      "  'N' 'O' 'P' 'Q' 'R' 'S' 'T' 'U']\n",
      " ['W' 'X' 'Y' 'Z' 'A' 'B' 'C' 'D' 'E' 'F' 'G' 'H' 'I' 'J' 'K' 'L' 'M' 'N'\n",
      "  'O' 'P' 'Q' 'R' 'S' 'T' 'U' 'V']\n",
      " ['X' 'Y' 'Z' 'A' 'B' 'C' 'D' 'E' 'F' 'G' 'H' 'I' 'J' 'K' 'L' 'M' 'N' 'O'\n",
      "  'P' 'Q' 'R' 'S' 'T' 'U' 'V' 'W']\n",
      " ['Y' 'Z' 'A' 'B' 'C' 'D' 'E' 'F' 'G' 'H' 'I' 'J' 'K' 'L' 'M' 'N' 'O' 'P'\n",
      "  'Q' 'R' 'S' 'T' 'U' 'V' 'W' 'X']\n",
      " ['Z' 'A' 'B' 'C' 'D' 'E' 'F' 'G' 'H' 'I' 'J' 'K' 'L' 'M' 'N' 'O' 'P' 'Q'\n",
      "  'R' 'S' 'T' 'U' 'V' 'W' 'X' 'Y']]\n",
      "Enter the Plain Text: weared\n",
      "Enter The Key: decept\n",
      "Key Is Longer Than Plain Text\n",
      "\n",
      "Your Key:  decept\n",
      "\n",
      "Cipher Text\n",
      "ZHDUHG\n"
     ]
    }
   ],
   "source": [
    "from numpy import *\n",
    "fulllist = []\n",
    "cipherlist = []\n",
    "list1 = ['A','B','C','D','E','F','G','H','I','J','K','L','M','N','O','P','Q','R','S','T','U','V','W','X','Y','Z']\n",
    "fulllist.append(list1)\n",
    "list2 = list1.copy()\n",
    "for x in range(0,25):\n",
    "    list2.append(list2[0])\n",
    "    del list2[0]\n",
    "    fulllist.append(list2)\n",
    "    list2 = list2.copy()\n",
    "print(reshape(fulllist,(26,26)))\n",
    "\n",
    "txt = input(\"Enter the Plain Text: \")\n",
    "txt_len = len(txt)\n",
    "txtlist = [x for x in txt]\n",
    "key = input(\"Enter The Key: \")\n",
    "key_len = len(key)\n",
    "keylist = [x for x in key]\n",
    "\n",
    "if key_len<txt_len:\n",
    "    i = 0\n",
    "    for k in range (0,(txt_len-key_len)):\n",
    "        keylist.append(key[i])\n",
    "        i = i + 1\n",
    "        if i == key_len:\n",
    "            i = 0\n",
    "else:\n",
    "    print(\"Key Is Longer Than Plain Text\")\n",
    "\n",
    "i = 0\n",
    "for j in txtlist:\n",
    "    if j == ' ':\n",
    "        cipherlist.append(' ')\n",
    "    else:\n",
    "        for k in keylist:\n",
    "            cipherlist.append(fulllist[ord(j.lower())-97][ord(k.lower())-97])\n",
    "            break\n",
    "        \n",
    "print(\"\\nYour Key: \", ''.join(keylist))\n",
    "print(\"\\nCipher Text\")\n",
    "print(''.join(cipherlist))"
   ]
  },
  {
   "cell_type": "markdown",
   "metadata": {},
   "source": [
    "WAP to implement Hill Cipher (Plain Text = 3 Letters) GYBNQKURP"
   ]
  },
  {
   "cell_type": "code",
   "execution_count": 40,
   "metadata": {},
   "outputs": [
    {
     "name": "stdout",
     "output_type": "stream",
     "text": [
      "Enter Plain Text of Lenght 3: ACT\n",
      "\n",
      "Input Key of Lenght 9: GYBNQKURP\n",
      "\n",
      "\n",
      "[ 0  2 19]\n",
      "\n",
      "\n",
      "[[ 6 24  1]\n",
      " [13 16 10]\n",
      " [20 17 15]]\n"
     ]
    },
    {
     "data": {
      "text/plain": [
       "'POH'"
      ]
     },
     "execution_count": 40,
     "metadata": {},
     "output_type": "execute_result"
    }
   ],
   "source": [
    "from numpy import *\n",
    "text1 = str(input(\"Enter Plain Text of Lenght 3: \"))\n",
    "text1_list = [(ord(x.lower())-97) for x in text1]\n",
    "array1 = array(text1_list)\n",
    "\n",
    "text2 = str(input(\"\\nInput Key of Lenght 9: \"))\n",
    "matrix = [(ord(x.lower()))-97 for x in text2]\n",
    "array2 = reshape(matrix,(3,3))\n",
    "\n",
    "print(\"\\n\")\n",
    "print(array1)\n",
    "print(\"\\n\")\n",
    "print(array2)\n",
    "\n",
    "array3 = []\n",
    "for y in range(0,3):\n",
    "    i = 0\n",
    "    sum = 0\n",
    "    sum += array2[y][i]*array1[i]\n",
    "    i += 1\n",
    "    sum += array2[y][i]*array1[i]\n",
    "    i+= 1\n",
    "    sum += array2[y][i]*array1[i]\n",
    "    array3.append(sum)\n",
    "\n",
    "array3 = array3.copy()\n",
    "array4 = [chr((x%26)+65) for x in array3]\n",
    "''.join(array4)"
   ]
  },
  {
   "cell_type": "markdown",
   "metadata": {},
   "source": [
    "Implement Play-fair cipher"
   ]
  },
  {
   "cell_type": "markdown",
   "metadata": {},
   "source": [
    "playfair example\n",
    "Hide the gold in the tree stump"
   ]
  },
  {
   "cell_type": "code",
   "execution_count": 39,
   "metadata": {},
   "outputs": [
    {
     "name": "stdout",
     "output_type": "stream",
     "text": [
      "Enter the key: playfair example\n",
      "[['P' 'L' 'A' 'Y' 'F']\n",
      " ['I' 'R' 'E' 'X' 'M']\n",
      " ['B' 'C' 'D' 'G' 'H']\n",
      " ['K' 'N' 'O' 'Q' 'S']\n",
      " ['T' 'U' 'V' 'W' 'Z']]\n",
      "Enter the Plain Text: Hide the gold in the tree stump\n",
      "['HI', 'DE', 'TH', 'EG', 'OL', 'DI', 'NT', 'HE', 'TR', 'EX', 'ES', 'TU', 'MP']\n",
      "['BM', 'OD', 'ZB', 'XD', 'NA', 'BE', 'KU', 'DM', 'UI', 'XM', 'MO', 'UV', 'IF']\n",
      "Cipher Text: \n",
      "BMODZBXDNABEKUDMUIXMMOUVIF\n"
     ]
    }
   ],
   "source": [
    "import numpy as np\n",
    "import pandas as pd\n",
    "\n",
    "key = str(input(\"Enter the key: \"))\n",
    "key_list = [x.upper() for x in key if x!=' ']\n",
    "key_unique_list = pd.unique(key_list)\n",
    "key_list2 = key_unique_list.tolist()\n",
    "alphabet_list = ['A','B','C','D','E','F','G','H','I','J','K','L','M','N','O','P','Q','R','S','T','U','V','W','X','Y','Z']\n",
    "\n",
    "for i in alphabet_list:\n",
    "    if i not in key_list2 :\n",
    "        key_list2.append(i)\n",
    "if 'J' in key_list2:\n",
    "    key_list2.remove('J')\n",
    "array = np.reshape(key_list2,(5,5))\n",
    "print(array)\n",
    "\n",
    "plain_text = str(input(\"Enter the Plain Text: \"))\n",
    "pt_list = [x.upper() for x in plain_text if x!=' ']\n",
    "for i in range(len(pt_list)):\n",
    "    if pt_list[i] == 'J':\n",
    "        pt_list[i] = 'I'\n",
    "pt_list_pair = []\n",
    "temp = []\n",
    "extratemp = 'null'\n",
    "for i in pt_list:\n",
    "    temp.append(i)\n",
    "    if len(temp) == 2:\n",
    "        if temp[0] == temp[1]:\n",
    "            extratemp = str(temp[1])\n",
    "            temp[1] = 'X'\n",
    "        pt_list_pair.append(''.join(temp))\n",
    "        if extratemp == temp[0]:\n",
    "            temp.clear()\n",
    "            temp.append(extratemp)\n",
    "            extratemp = 'null'\n",
    "        else:\n",
    "            temp.clear()\n",
    "print(pt_list_pair)\n",
    "\n",
    "result = []    \n",
    "for i in pt_list_pair:\n",
    "    val1 = np.where(array == i[0])\n",
    "    val2 = np.where(array == i[1])\n",
    "    \n",
    "    num1 = int(val1[0])\n",
    "    num2 = int(val1[1])\n",
    "    num3 = int(val2[0])\n",
    "    num4 = int(val2[1])\n",
    "    \n",
    "    if int(val1[0]) != int(val2[0]) and int(val1[1]) != int(val2[1]):\n",
    "        #Either of the columns lies in the middle\n",
    "        if int(val1[1]) == 2:\n",
    "            num2 = num4\n",
    "            num4 = 2\n",
    "        elif int(val2[1]) == 2:\n",
    "            num4 = num2\n",
    "            num2 = 2\n",
    "               \n",
    "        if int(val1[1]) > 2:\n",
    "            if int(val2[1]) < 2:\n",
    "                diff = num2 - 2\n",
    "                num2 = 2 - diff\n",
    "        elif int(val1[1]) < 2:\n",
    "            if int(val2[1]) > 2:\n",
    "                diff = 2 - num2\n",
    "                num2 = 2 + diff\n",
    "        if int(val2[1]) > 2:\n",
    "            if int(val1[1]) < 2:\n",
    "                diff = num4 - 2\n",
    "                num4 = 2 - diff\n",
    "        elif int(val2[1]) < 2:\n",
    "            if int(val1[1]) > 2:\n",
    "                diff = 2 - num4\n",
    "                num4 = 2 + diff\n",
    "        \n",
    "        if int(val1[1]) > 2:\n",
    "            if int(val2[1]) > 2:\n",
    "                temp = num2\n",
    "                num2 = num4\n",
    "                num4 = temp\n",
    "        elif int(val1[1]) < 2:\n",
    "            if int(val2[1]) < 2:\n",
    "                temp = num2\n",
    "                num2 = num4\n",
    "                num4 = temp\n",
    "        \n",
    "    elif int(val1[0]) == int(val2[0]):\n",
    "        if num2 < 4:\n",
    "            if num4 < 4:\n",
    "                num2 = num2 + 1\n",
    "                num4 = num4 + 1\n",
    "            else:\n",
    "                num4 = 0\n",
    "        else:\n",
    "            num2 = 0\n",
    "            if num4 < 4:\n",
    "                num4 = num4 + 1\n",
    "            else:\n",
    "                num4 = 0\n",
    "        \n",
    "    elif int(val1[1]) == int(val2[1]):\n",
    "        if num1 < 4:\n",
    "            if num3 < 4:\n",
    "                num1 = num1 + 1\n",
    "                num3 = num3 + 1\n",
    "            else:\n",
    "                num3 = 0\n",
    "        else:\n",
    "            num1 = 0\n",
    "            if num3 < 4:\n",
    "                num3 = num3 + 1\n",
    "            else:\n",
    "                num3 = 0\n",
    "                \n",
    "    result.append(array[num1][num2]+array[num3][num4])\n",
    "    \n",
    "print(result)\n",
    "print(\"Cipher Text: \")\n",
    "print(''.join(result))"
   ]
  },
  {
   "cell_type": "markdown",
   "metadata": {},
   "source": [
    "Rail-Fence Cipher"
   ]
  },
  {
   "cell_type": "code",
   "execution_count": 34,
   "metadata": {},
   "outputs": [
    {
     "name": "stdout",
     "output_type": "stream",
     "text": [
      "[['a' 't' 't' 'a' 'c' 'k' 'p']\n",
      " ['o' 's' 't' 'p' 'o' 'n' 'e']\n",
      " ['d' 'u' 'n' 't' 'i' 'l' 't']\n",
      " ['w' 'o' 'a' 'm' 'x' 'y' 'z']]\n",
      "['aodw', 'tsuo', 'ttna', 'aptm', 'coix', 'knly', 'petz']\n",
      "\n",
      "Cipher Text\n",
      "ttnaaptmtsuoaodwcoixknlypetz\n"
     ]
    }
   ],
   "source": [
    "import numpy as np\n",
    "\n",
    "plain_text = \"attack postponed until two am xyz\"\n",
    "mylist = [x for x in plain_text if x != \" \"]\n",
    "key_seq = 4312567\n",
    "mylist2 = [x for x in str(key_seq)]\n",
    "i1 = int(len(mylist))\n",
    "j1 = int(len(str(key_seq)))\n",
    "k1 = int(i1/j1)\n",
    "new_matrix = np.reshape(mylist,(k1,j1)) \n",
    "print(new_matrix)\n",
    "\n",
    "k=0\n",
    "temp = \"\"\n",
    "new_mylist = []\n",
    "for k in range(0,j1):\n",
    "    for j in range(0,k1):\n",
    "        temp = temp + new_matrix[j][k]\n",
    "    new_mylist.append(temp)\n",
    "    temp = \"\"\n",
    "\n",
    "print(new_mylist)\n",
    "\n",
    "print(\"\\nCipher Text\")\n",
    "cipher = dict(zip(mylist2,new_mylist))\n",
    "\n",
    "string = \"\"\n",
    "for q in range(1,8):\n",
    "    string = string + cipher[str(q)]\n",
    "    \n",
    "print(string)"
   ]
  },
  {
   "cell_type": "code",
   "execution_count": null,
   "metadata": {},
   "outputs": [],
   "source": []
  }
 ],
 "metadata": {
  "kernelspec": {
   "display_name": "Python 3",
   "language": "python",
   "name": "python3"
  },
  "language_info": {
   "codemirror_mode": {
    "name": "ipython",
    "version": 3
   },
   "file_extension": ".py",
   "mimetype": "text/x-python",
   "name": "python",
   "nbconvert_exporter": "python",
   "pygments_lexer": "ipython3",
   "version": "3.7.2"
  }
 },
 "nbformat": 4,
 "nbformat_minor": 2
}
